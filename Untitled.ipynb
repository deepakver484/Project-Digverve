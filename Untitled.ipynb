{
 "cells": [
  {
   "cell_type": "code",
   "execution_count": 3,
   "id": "fb18e028",
   "metadata": {},
   "outputs": [],
   "source": [
    "import pandas as pd\n",
    "import numpy as np\n",
    "from sklearn.model_selection import train_test_split\n",
    "from sklearn.preprocessing import Normalizer\n",
    "from sklearn.linear_model import LogisticRegression\n",
    "from sklearn.tree import DecisionTreeClassifier\n",
    "from sklearn.ensemble import RandomForestClassifier\n",
    "from sklearn.model_selection import RandomizedSearchCV\n",
    "from sklearn.naive_bayes import GaussianNB\n",
    "from sklearn.naive_bayes import CategoricalNB\n",
    "from imblearn.over_sampling import SMOTE\n",
    "from sklearn.metrics import classification_report\n",
    "from sklearn.metrics import roc_auc_score\n",
    "from sklearn.ensemble import VotingClassifier"
   ]
  },
  {
   "cell_type": "code",
   "execution_count": 4,
   "id": "d6738344",
   "metadata": {},
   "outputs": [],
   "source": [
    "df = pd.read_csv('preprocessed_data_Assignment_2.csv')"
   ]
  },
  {
   "cell_type": "code",
   "execution_count": 5,
   "id": "6962f7bd",
   "metadata": {},
   "outputs": [],
   "source": [
    "x = df.iloc[:, :-1]\n",
    "y = df['y']"
   ]
  },
  {
   "cell_type": "code",
   "execution_count": 6,
   "id": "a8960971",
   "metadata": {},
   "outputs": [],
   "source": [
    "xtrain, xtest, ytrain, ytest = train_test_split(x, y, test_size= 0.2, random_state=20)"
   ]
  },
  {
   "cell_type": "code",
   "execution_count": 7,
   "id": "d911b0a6",
   "metadata": {},
   "outputs": [],
   "source": [
    "n = Normalizer() \n",
    "x_train = n.fit_transform(xtrain)\n",
    "x_test = n.transform(xtest)"
   ]
  },
  {
   "cell_type": "code",
   "execution_count": 8,
   "id": "b66fab2b",
   "metadata": {},
   "outputs": [],
   "source": [
    "X_resampled, y_resampled = SMOTE().fit_resample(x_train, ytrain)"
   ]
  },
  {
   "cell_type": "code",
   "execution_count": 9,
   "id": "dedda627",
   "metadata": {},
   "outputs": [],
   "source": [
    "clf1 = LogisticRegression(random_state=1)\n",
    "clf2 = RandomForestClassifier(n_estimators = 40, min_samples_split = 15, min_samples_leaf = 12, max_features = 'log2',\n",
    "                              max_depth = 10, criterion ='gini', random_state=1)\n",
    "clf3 = GaussianNB()\n",
    "clf4 = CategoricalNB()\n",
    "clf5 = DecisionTreeClassifier(random_state = 1)\n",
    "\n",
    "eclf = VotingClassifier(estimators=[('lr', clf1), ('rf', clf2), ('gnb', clf3), ('cnb', clf4), ('dtc', clf5)],voting='hard')"
   ]
  },
  {
   "cell_type": "code",
   "execution_count": 10,
   "id": "482a2ef8",
   "metadata": {},
   "outputs": [
    {
     "data": {
      "text/plain": [
       "VotingClassifier(estimators=[('lr', LogisticRegression(random_state=1)),\n",
       "                             ('rf',\n",
       "                              RandomForestClassifier(max_depth=10,\n",
       "                                                     max_features='log2',\n",
       "                                                     min_samples_leaf=12,\n",
       "                                                     min_samples_split=15,\n",
       "                                                     n_estimators=40,\n",
       "                                                     random_state=1)),\n",
       "                             ('gnb', GaussianNB()), ('cnb', CategoricalNB()),\n",
       "                             ('dtc', DecisionTreeClassifier(random_state=1))])"
      ]
     },
     "execution_count": 10,
     "metadata": {},
     "output_type": "execute_result"
    }
   ],
   "source": [
    "eclf.fit(X_resampled, y_resampled)\n"
   ]
  },
  {
   "cell_type": "code",
   "execution_count": 11,
   "id": "6b5729a4",
   "metadata": {},
   "outputs": [],
   "source": [
    "ypred = eclf.predict(x_test)"
   ]
  },
  {
   "cell_type": "code",
   "execution_count": 12,
   "id": "041339e4",
   "metadata": {},
   "outputs": [
    {
     "name": "stdout",
     "output_type": "stream",
     "text": [
      "              precision    recall  f1-score   support\n",
      "\n",
      "           0       0.96      0.82      0.89      5845\n",
      "           1       0.35      0.74      0.48       745\n",
      "\n",
      "    accuracy                           0.81      6590\n",
      "   macro avg       0.66      0.78      0.68      6590\n",
      "weighted avg       0.89      0.81      0.84      6590\n",
      "\n"
     ]
    }
   ],
   "source": [
    "print(classification_report(ytest, ypred))"
   ]
  },
  {
   "cell_type": "code",
   "execution_count": 13,
   "id": "8ee3779c",
   "metadata": {},
   "outputs": [
    {
     "data": {
      "text/plain": [
       "0.7837881284411043"
      ]
     },
     "execution_count": 13,
     "metadata": {},
     "output_type": "execute_result"
    }
   ],
   "source": [
    "roc_auc_score(ytest, ypred)"
   ]
  },
  {
   "cell_type": "code",
   "execution_count": 14,
   "id": "acd645cf",
   "metadata": {},
   "outputs": [],
   "source": [
    "age = '15'\n",
    "job = '2'\n",
    "marital = '1'\n",
    "education = '5'\n",
    "default = '1'\n",
    "housing = '1'\n",
    "loan = '0'\n",
    "contact = '1'\n",
    "month = '10'\n",
    "day_of_week = '5'\n",
    "duration = '240'\n",
    "campaign = '3'\n",
    "poutcome = '1'"
   ]
  },
  {
   "cell_type": "code",
   "execution_count": 15,
   "id": "c7e00e1f",
   "metadata": {},
   "outputs": [],
   "source": [
    "df1 = pd.DataFrame({'age': age, 'job': job, 'marital': marital, 'education': education, 'default': default, 'housing': housing,\n",
    "                    'loan': loan,'contact': contact, 'month': month, 'day_of_week': day_of_week, 'duration': duration,\n",
    "                    'campaign': campaign, 'poutcome': poutcome}, index= [0])"
   ]
  },
  {
   "cell_type": "code",
   "execution_count": 18,
   "id": "5c388d34",
   "metadata": {},
   "outputs": [],
   "source": [
    "import pickle"
   ]
  },
  {
   "cell_type": "code",
   "execution_count": 22,
   "id": "611a11e7",
   "metadata": {},
   "outputs": [],
   "source": [
    "with open('model_pkl', 'wb') as files:\n",
    "    pickle.dump(eclf, files)"
   ]
  },
  {
   "cell_type": "code",
   "execution_count": 20,
   "id": "fdc37d22",
   "metadata": {},
   "outputs": [],
   "source": [
    "# load saved model\n",
    "with open('model_pkl' , 'rb') as f:\n",
    "    model = pickle.load(f)"
   ]
  },
  {
   "cell_type": "code",
   "execution_count": 23,
   "id": "0b785d6b",
   "metadata": {},
   "outputs": [],
   "source": [
    "with open('normalizer_pkl', 'wb') as files:\n",
    "    pickle.dump(n, files)"
   ]
  },
  {
   "cell_type": "code",
   "execution_count": 21,
   "id": "232947dc",
   "metadata": {},
   "outputs": [],
   "source": [
    "with open('normalizer_pkl' , 'rb') as f:\n",
    "    norm = pickle.load(f)"
   ]
  },
  {
   "cell_type": "code",
   "execution_count": 22,
   "id": "212cfea6",
   "metadata": {},
   "outputs": [
    {
     "data": {
      "text/plain": [
       "array([[0.06228787, 0.00830505, 0.00415252, 0.02076262, 0.00415252,\n",
       "        0.00415252, 0.        , 0.00415252, 0.04152525, 0.02076262,\n",
       "        0.9966059 , 0.01245757, 0.00415252]])"
      ]
     },
     "execution_count": 22,
     "metadata": {},
     "output_type": "execute_result"
    }
   ],
   "source": [
    "var = norm.transform(df1.astype('int64'))"
   ]
  },
  {
   "cell_type": "code",
   "execution_count": 23,
   "id": "07f87683",
   "metadata": {},
   "outputs": [
    {
     "data": {
      "text/plain": [
       "array([0], dtype=int64)"
      ]
     },
     "execution_count": 23,
     "metadata": {},
     "output_type": "execute_result"
    }
   ],
   "source": [
    "model.predict(var)[0]"
   ]
  }
 ],
 "metadata": {
  "kernelspec": {
   "display_name": "Python 3 (ipykernel)",
   "language": "python",
   "name": "python3"
  },
  "language_info": {
   "codemirror_mode": {
    "name": "ipython",
    "version": 3
   },
   "file_extension": ".py",
   "mimetype": "text/x-python",
   "name": "python",
   "nbconvert_exporter": "python",
   "pygments_lexer": "ipython3",
   "version": "3.9.12"
  }
 },
 "nbformat": 4,
 "nbformat_minor": 5
}
